{
 "cells": [
  {
   "cell_type": "markdown",
   "id": "168db619-386b-47a5-8b88-3f060f8085a1",
   "metadata": {},
   "source": [
    "# DWD_historical_weather: Beispiel-Notebook"
   ]
  },
  {
   "cell_type": "markdown",
   "id": "a1c68afa-aefc-4540-a8c6-21ecab95b2b2",
   "metadata": {},
   "source": [
    "#### Bundesland als globalen Parameter festlegen."
   ]
  },
  {
   "cell_type": "code",
   "execution_count": null,
   "id": "b355df3c-0e27-412e-80fe-27e552d99275",
   "metadata": {},
   "outputs": [],
   "source": [
    "BUNDESLAND = 'Berlin'"
   ]
  },
  {
   "cell_type": "code",
   "execution_count": null,
   "id": "4ac27a52-40b5-48fd-9971-89659848834c",
   "metadata": {},
   "outputs": [],
   "source": [
    "from dwd_hist_weather import tagestemp_land\n",
    "\n",
    "import pandas as pd\n",
    "import pickle\n",
    "\n",
    "import matplotlib.pyplot as plt\n",
    "import matplotlib.dates as mdates\n",
    "import seaborn as sns"
   ]
  },
  {
   "cell_type": "markdown",
   "id": "bdad93dd-be53-40d1-b8be-22e246783d6b",
   "metadata": {},
   "source": [
    "#### Das eigentliche Einlesen der Daten: Wenn vorhanden aus pickle, sonst **tagestemp_land** aus dem Modul aufrufen und die Daten vom DWD ziehen."
   ]
  },
  {
   "cell_type": "code",
   "execution_count": null,
   "id": "ad63778b-6c45-42be-9ea4-80c5b1f290be",
   "metadata": {},
   "outputs": [],
   "source": [
    "pickle_dateiname = f'{BUNDESLAND}.pickle'\n",
    "try:\n",
    "    tageswerte = pickle.load(open(pickle_dateiname, 'rb'))\n",
    "    print(f'Wetterdaten für {BUNDESLAND} aus pickle eingelesen.')\n",
    "except (OSError, IOError):\n",
    "    tageswerte = tagestemp_land(BUNDESLAND)\n",
    "    pickle.dump(tageswerte, open(pickle_dateiname, 'wb'))\n",
    "    print(f'\\nWetterdaten für {BUNDESLAND} in pickle geschrieben.')"
   ]
  },
  {
   "cell_type": "markdown",
   "id": "7c484c3c-1a30-4390-b53e-7216c2ea9948",
   "metadata": {},
   "source": [
    "### DataFrame ausgeben"
   ]
  },
  {
   "cell_type": "code",
   "execution_count": null,
   "id": "f4e377ac-4b09-48d7-b7f3-e136f1bc529c",
   "metadata": {},
   "outputs": [],
   "source": [
    "display(tageswerte)"
   ]
  },
  {
   "cell_type": "markdown",
   "id": "5335c13d-6687-414d-bf71-b682531207a4",
   "metadata": {},
   "source": [
    "### Heatmap der täglichen Durchschnittstemperaturen"
   ]
  },
  {
   "cell_type": "code",
   "execution_count": null,
   "id": "1ebe8ce0-24b7-4032-b467-b6ace8907e97",
   "metadata": {},
   "outputs": [],
   "source": [
    "ana = tageswerte.pivot(index='Jahr', columns='Tag_des_Jahres', values='Temp')\n",
    "\n",
    "f, ax = plt.subplots(figsize=(20, 10))\n",
    "sns.heatmap(ana, vmin=-10, vmax=23, cmap=\"RdBu_r\")\n",
    "ax.axes.set_title(\"Tagesmitteltemperaturen\", y=1.01)\n",
    "ax.xaxis.set_major_locator(mdates.MonthLocator())\n",
    "ax.xaxis.set_minor_locator(mdates.DayLocator())\n",
    "ax.xaxis.set_major_formatter(mdates.DateFormatter('%b'))"
   ]
  },
  {
   "cell_type": "markdown",
   "id": "16ffd678-9765-4231-b2ea-c9f39857cf30",
   "metadata": {},
   "source": [
    "### Jährliche Durchschnittstemperaturen plus 5-Jahres-Mittel"
   ]
  },
  {
   "cell_type": "code",
   "execution_count": null,
   "id": "878336fd-4a40-4371-9319-56254f168b3f",
   "metadata": {},
   "outputs": [],
   "source": [
    "ana = tageswerte.pivot(index='Jahr', columns='Tag_des_Jahres', values='Temp')\n",
    "\n",
    "ana['Jahresmittel'] = ana.mean(axis=1)\n",
    "ana['Jahresmittel5'] = ana['Jahresmittel'].rolling(5).mean()\n",
    "\n",
    "plt.subplots(figsize=(20, 10))\n",
    "sns.lineplot(data=ana, x='Jahr', y='Jahresmittel')\n",
    "sns.lineplot(data=ana, x='Jahr', y='Jahresmittel5', color='red')"
   ]
  }
 ],
 "metadata": {
  "kernelspec": {
   "display_name": "Python 3",
   "language": "python",
   "name": "python3"
  },
  "language_info": {
   "codemirror_mode": {
    "name": "ipython",
    "version": 3
   },
   "file_extension": ".py",
   "mimetype": "text/x-python",
   "name": "python",
   "nbconvert_exporter": "python",
   "pygments_lexer": "ipython3",
   "version": "3.8.8"
  }
 },
 "nbformat": 4,
 "nbformat_minor": 5
}
