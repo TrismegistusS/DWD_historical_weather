{
 "cells": [
  {
   "cell_type": "markdown",
   "id": "168db619-386b-47a5-8b88-3f060f8085a1",
   "metadata": {},
   "source": [
    "# DWD_historical_weather: Beispiel-Notebook"
   ]
  },
  {
   "cell_type": "markdown",
   "id": "a1c68afa-aefc-4540-a8c6-21ecab95b2b2",
   "metadata": {},
   "source": [
    "#### Bundesland als globalen Parameter festlegen"
   ]
  },
  {
   "cell_type": "code",
   "execution_count": 1,
   "id": "b355df3c-0e27-412e-80fe-27e552d99275",
   "metadata": {},
   "outputs": [],
   "source": [
    "BUNDESLAND = 'Berlin'"
   ]
  },
  {
   "cell_type": "code",
   "execution_count": 2,
   "id": "4ac27a52-40b5-48fd-9971-89659848834c",
   "metadata": {},
   "outputs": [],
   "source": [
    "from DWD_hist_weather import tagestemp_land, tageswerte_land\n",
    "\n",
    "import pandas as pd\n",
    "import pickle\n",
    "\n",
    "import matplotlib.pyplot as plt\n",
    "import matplotlib.dates as mdates\n",
    "import seaborn as sns"
   ]
  },
  {
   "cell_type": "markdown",
   "id": "bdad93dd-be53-40d1-b8be-22e246783d6b",
   "metadata": {},
   "source": [
    "#### Das eigentliche Einlesen der Daten: Wenn vorhanden aus pickle, sonst **tageswerte_land** aus dem Modul aufrufen und die Daten vom DWD ziehen"
   ]
  },
  {
   "cell_type": "code",
   "execution_count": 3,
   "id": "ad63778b-6c45-42be-9ea4-80c5b1f290be",
   "metadata": {},
   "outputs": [
    {
     "name": "stdout",
     "output_type": "stream",
     "text": [
      ".-.-...-...-.-.-...-.-...-.-.-.-...-...-.-\n",
      "Wetterdaten für Berlin in pickle geschrieben.\n"
     ]
    }
   ],
   "source": [
    "pickle_dateiname = f'{BUNDESLAND}.pickle'\n",
    "try:\n",
    "    tageswerte = pickle.load(open(pickle_dateiname, 'rb'))\n",
    "    print(f'Wetterdaten für {BUNDESLAND} aus pickle eingelesen.')\n",
    "except (OSError, IOError):\n",
    "    tageswerte = tageswerte_land(BUNDESLAND)\n",
    "    pickle.dump(tageswerte, open(pickle_dateiname, 'wb'))\n",
    "    print(f'\\nWetterdaten für {BUNDESLAND} in pickle geschrieben.')"
   ]
  },
  {
   "cell_type": "markdown",
   "id": "7c484c3c-1a30-4390-b53e-7216c2ea9948",
   "metadata": {},
   "source": [
    "### DataFrame ausgeben"
   ]
  },
  {
   "cell_type": "code",
   "execution_count": 4,
   "id": "f4e377ac-4b09-48d7-b7f3-e136f1bc529c",
   "metadata": {},
   "outputs": [
    {
     "data": {
      "text/html": [
       "<div>\n",
       "<style scoped>\n",
       "    .dataframe tbody tr th:only-of-type {\n",
       "        vertical-align: middle;\n",
       "    }\n",
       "\n",
       "    .dataframe tbody tr th {\n",
       "        vertical-align: top;\n",
       "    }\n",
       "\n",
       "    .dataframe thead th {\n",
       "        text-align: right;\n",
       "    }\n",
       "</style>\n",
       "<table border=\"1\" class=\"dataframe\">\n",
       "  <thead>\n",
       "    <tr style=\"text-align: right;\">\n",
       "      <th></th>\n",
       "      <th>TempMean</th>\n",
       "      <th>HumidityMean</th>\n",
       "      <th>TempMax</th>\n",
       "      <th>TempMin</th>\n",
       "      <th>SunshineDuration</th>\n",
       "      <th>Windspeed</th>\n",
       "      <th>Jahr</th>\n",
       "      <th>Monat</th>\n",
       "      <th>Tag_des_Jahres</th>\n",
       "    </tr>\n",
       "    <tr>\n",
       "      <th>Datum</th>\n",
       "      <th></th>\n",
       "      <th></th>\n",
       "      <th></th>\n",
       "      <th></th>\n",
       "      <th></th>\n",
       "      <th></th>\n",
       "      <th></th>\n",
       "      <th></th>\n",
       "      <th></th>\n",
       "    </tr>\n",
       "  </thead>\n",
       "  <tbody>\n",
       "    <tr>\n",
       "      <th>1876-01-01</th>\n",
       "      <td>2.200000</td>\n",
       "      <td>NaN</td>\n",
       "      <td>3.500000</td>\n",
       "      <td>-3.000</td>\n",
       "      <td>NaN</td>\n",
       "      <td>NaN</td>\n",
       "      <td>1876</td>\n",
       "      <td>1</td>\n",
       "      <td>1</td>\n",
       "    </tr>\n",
       "    <tr>\n",
       "      <th>1876-01-02</th>\n",
       "      <td>2.500000</td>\n",
       "      <td>NaN</td>\n",
       "      <td>2.800000</td>\n",
       "      <td>2.300</td>\n",
       "      <td>NaN</td>\n",
       "      <td>NaN</td>\n",
       "      <td>1876</td>\n",
       "      <td>1</td>\n",
       "      <td>2</td>\n",
       "    </tr>\n",
       "    <tr>\n",
       "      <th>1876-01-03</th>\n",
       "      <td>0.300000</td>\n",
       "      <td>NaN</td>\n",
       "      <td>2.800000</td>\n",
       "      <td>-1.800</td>\n",
       "      <td>NaN</td>\n",
       "      <td>NaN</td>\n",
       "      <td>1876</td>\n",
       "      <td>1</td>\n",
       "      <td>3</td>\n",
       "    </tr>\n",
       "    <tr>\n",
       "      <th>1876-01-04</th>\n",
       "      <td>-5.800000</td>\n",
       "      <td>NaN</td>\n",
       "      <td>-1.800000</td>\n",
       "      <td>-7.000</td>\n",
       "      <td>NaN</td>\n",
       "      <td>NaN</td>\n",
       "      <td>1876</td>\n",
       "      <td>1</td>\n",
       "      <td>4</td>\n",
       "    </tr>\n",
       "    <tr>\n",
       "      <th>1876-01-05</th>\n",
       "      <td>-9.800000</td>\n",
       "      <td>NaN</td>\n",
       "      <td>-6.800000</td>\n",
       "      <td>-13.300</td>\n",
       "      <td>NaN</td>\n",
       "      <td>NaN</td>\n",
       "      <td>1876</td>\n",
       "      <td>1</td>\n",
       "      <td>5</td>\n",
       "    </tr>\n",
       "    <tr>\n",
       "      <th>...</th>\n",
       "      <td>...</td>\n",
       "      <td>...</td>\n",
       "      <td>...</td>\n",
       "      <td>...</td>\n",
       "      <td>...</td>\n",
       "      <td>...</td>\n",
       "      <td>...</td>\n",
       "      <td>...</td>\n",
       "      <td>...</td>\n",
       "    </tr>\n",
       "    <tr>\n",
       "      <th>2021-12-17</th>\n",
       "      <td>5.275000</td>\n",
       "      <td>86.157500</td>\n",
       "      <td>6.000000</td>\n",
       "      <td>4.575</td>\n",
       "      <td>0.0000</td>\n",
       "      <td>5.0</td>\n",
       "      <td>2021</td>\n",
       "      <td>12</td>\n",
       "      <td>351</td>\n",
       "    </tr>\n",
       "    <tr>\n",
       "      <th>2021-12-18</th>\n",
       "      <td>5.825000</td>\n",
       "      <td>92.417500</td>\n",
       "      <td>7.675000</td>\n",
       "      <td>4.700</td>\n",
       "      <td>0.0000</td>\n",
       "      <td>4.3</td>\n",
       "      <td>2021</td>\n",
       "      <td>12</td>\n",
       "      <td>352</td>\n",
       "    </tr>\n",
       "    <tr>\n",
       "      <th>2021-12-19</th>\n",
       "      <td>5.900000</td>\n",
       "      <td>87.325000</td>\n",
       "      <td>7.275000</td>\n",
       "      <td>1.125</td>\n",
       "      <td>0.0000</td>\n",
       "      <td>6.9</td>\n",
       "      <td>2021</td>\n",
       "      <td>12</td>\n",
       "      <td>353</td>\n",
       "    </tr>\n",
       "    <tr>\n",
       "      <th>2021-12-20</th>\n",
       "      <td>1.200000</td>\n",
       "      <td>85.052500</td>\n",
       "      <td>3.525000</td>\n",
       "      <td>-0.825</td>\n",
       "      <td>4.1415</td>\n",
       "      <td>3.8</td>\n",
       "      <td>2021</td>\n",
       "      <td>12</td>\n",
       "      <td>354</td>\n",
       "    </tr>\n",
       "    <tr>\n",
       "      <th>2021-12-21</th>\n",
       "      <td>0.366667</td>\n",
       "      <td>91.443333</td>\n",
       "      <td>1.166667</td>\n",
       "      <td>-0.900</td>\n",
       "      <td>0.0000</td>\n",
       "      <td>NaN</td>\n",
       "      <td>2021</td>\n",
       "      <td>12</td>\n",
       "      <td>355</td>\n",
       "    </tr>\n",
       "  </tbody>\n",
       "</table>\n",
       "<p>53126 rows × 9 columns</p>\n",
       "</div>"
      ],
      "text/plain": [
       "            TempMean  HumidityMean   TempMax  TempMin  SunshineDuration  \\\n",
       "Datum                                                                     \n",
       "1876-01-01  2.200000           NaN  3.500000   -3.000               NaN   \n",
       "1876-01-02  2.500000           NaN  2.800000    2.300               NaN   \n",
       "1876-01-03  0.300000           NaN  2.800000   -1.800               NaN   \n",
       "1876-01-04 -5.800000           NaN -1.800000   -7.000               NaN   \n",
       "1876-01-05 -9.800000           NaN -6.800000  -13.300               NaN   \n",
       "...              ...           ...       ...      ...               ...   \n",
       "2021-12-17  5.275000     86.157500  6.000000    4.575            0.0000   \n",
       "2021-12-18  5.825000     92.417500  7.675000    4.700            0.0000   \n",
       "2021-12-19  5.900000     87.325000  7.275000    1.125            0.0000   \n",
       "2021-12-20  1.200000     85.052500  3.525000   -0.825            4.1415   \n",
       "2021-12-21  0.366667     91.443333  1.166667   -0.900            0.0000   \n",
       "\n",
       "            Windspeed  Jahr  Monat  Tag_des_Jahres  \n",
       "Datum                                               \n",
       "1876-01-01        NaN  1876      1               1  \n",
       "1876-01-02        NaN  1876      1               2  \n",
       "1876-01-03        NaN  1876      1               3  \n",
       "1876-01-04        NaN  1876      1               4  \n",
       "1876-01-05        NaN  1876      1               5  \n",
       "...               ...   ...    ...             ...  \n",
       "2021-12-17        5.0  2021     12             351  \n",
       "2021-12-18        4.3  2021     12             352  \n",
       "2021-12-19        6.9  2021     12             353  \n",
       "2021-12-20        3.8  2021     12             354  \n",
       "2021-12-21        NaN  2021     12             355  \n",
       "\n",
       "[53126 rows x 9 columns]"
      ]
     },
     "metadata": {},
     "output_type": "display_data"
    }
   ],
   "source": [
    "display(tageswerte)"
   ]
  },
  {
   "cell_type": "markdown",
   "id": "5335c13d-6687-414d-bf71-b682531207a4",
   "metadata": {},
   "source": [
    "### Heatmap der täglichen Durchschnittstemperaturen"
   ]
  },
  {
   "cell_type": "code",
   "execution_count": null,
   "id": "1ebe8ce0-24b7-4032-b467-b6ace8907e97",
   "metadata": {},
   "outputs": [],
   "source": [
    "ana = tageswerte.pivot(index='Jahr', columns='Tag_des_Jahres', values='TempMean')\n",
    "\n",
    "f, ax = plt.subplots(figsize=(20, 10))\n",
    "sns.heatmap(ana, vmin=-10, vmax=23, cmap=\"RdBu_r\")\n",
    "ax.axes.set_title(\"Tagesmitteltemperaturen\", y=1.01)\n",
    "ax.xaxis.set_major_locator(mdates.MonthLocator())\n",
    "ax.xaxis.set_minor_locator(mdates.DayLocator())\n",
    "ax.xaxis.set_major_formatter(mdates.DateFormatter('%b'))"
   ]
  },
  {
   "cell_type": "markdown",
   "id": "16ffd678-9765-4231-b2ea-c9f39857cf30",
   "metadata": {},
   "source": [
    "### Jährliche Durchschnittstemperaturen plus 5-Jahres-Mittel"
   ]
  },
  {
   "cell_type": "code",
   "execution_count": null,
   "id": "878336fd-4a40-4371-9319-56254f168b3f",
   "metadata": {},
   "outputs": [],
   "source": [
    "ana = tageswerte.pivot(index='Jahr', columns='Tag_des_Jahres', values='TempMean')\n",
    "\n",
    "ana['Jahresmittel'] = ana.mean(axis=1)\n",
    "ana['Jahresmittel5'] = ana['Jahresmittel'].rolling(5).mean()\n",
    "\n",
    "plt.subplots(figsize=(20, 10))\n",
    "sns.lineplot(data=ana, x='Jahr', y='Jahresmittel')\n",
    "sns.lineplot(data=ana, x='Jahr', y='Jahresmittel5', color='red')"
   ]
  }
 ],
 "metadata": {
  "kernelspec": {
   "display_name": "Python 3",
   "language": "python",
   "name": "python3"
  },
  "language_info": {
   "codemirror_mode": {
    "name": "ipython",
    "version": 3
   },
   "file_extension": ".py",
   "mimetype": "text/x-python",
   "name": "python",
   "nbconvert_exporter": "python",
   "pygments_lexer": "ipython3",
   "version": "3.8.12"
  }
 },
 "nbformat": 4,
 "nbformat_minor": 5
}
